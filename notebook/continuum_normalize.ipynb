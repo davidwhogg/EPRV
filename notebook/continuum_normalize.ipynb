{
 "cells": [
  {
   "cell_type": "code",
   "execution_count": 1,
   "metadata": {
    "collapsed": true
   },
   "outputs": [],
   "source": [
    "import matplotlib\n",
    "import numpy as np\n",
    "import matplotlib.pyplot as plt\n",
    "%matplotlib inline\n",
    "np.random.seed(42)"
   ]
  },
  {
   "cell_type": "code",
   "execution_count": 8,
   "metadata": {
    "collapsed": true
   },
   "outputs": [],
   "source": [
    "def ln_like(y):\n",
    "    s, s2 = 0.003, 0.5 # magic\n",
    "    lnl = -0.5 * (y - 1.) ** 2 / (s ** 2) - 0.5 * np.log(s)\n",
    "    lnl2 = -0.5 * (y - 1.) ** 2 / (s2 ** 2) - 0.5 * np.log(s2)\n",
    "    low = y < 1.\n",
    "    if np.sum(low):\n",
    "        lnl[low] = np.logaddexp(lnl[low], lnl2[low])\n",
    "    return lnl"
   ]
  },
  {
   "cell_type": "code",
   "execution_count": 12,
   "metadata": {
    "collapsed": false
   },
   "outputs": [
    {
     "data": {
      "text/plain": [
       "<matplotlib.text.Text at 0x1111ba1d0>"
      ]
     },
     "execution_count": 12,
     "metadata": {},
     "output_type": "execute_result"
    },
    {
     "data": {
      "image/png": "[encoded data removed]",
      "text/plain": [
       "<matplotlib.figure.Figure at 0x110d522e8>"
      ]
     },
     "metadata": {},
     "output_type": "display_data"
    }
   ],
   "source": [
    "tiny = 1.e-3\n",
    "yplot = np.arange(-0.1 + 0.5 * tiny, 1.1, tiny)\n",
    "plt.plot(yplot, ln_like(yplot), \"k-\")\n",
    "plt.ylim(-3., 3.)\n",
    "plt.ylabel(\"ln likelihood\")\n",
    "plt.xlabel(\"value of spectrum\")\n",
    "plt.title(\"made-up shit\")"
   ]
  },
  {
   "cell_type": "code",
   "execution_count": null,
   "metadata": {
    "collapsed": true
   },
   "outputs": [],
   "source": []
  }
 ],
 "metadata": {
  "kernelspec": {
   "display_name": "Python 3",
   "language": "python",
   "name": "python3"
  },
  "language_info": {
   "codemirror_mode": {
    "name": "ipython",
    "version": 3
   },
   "file_extension": ".py",
   "mimetype": "text/x-python",
   "name": "python",
   "nbconvert_exporter": "python",
   "pygments_lexer": "ipython3",
   "version": "3.6.0"
  }
 },
 "nbformat": 4,
 "nbformat_minor": 2
}
